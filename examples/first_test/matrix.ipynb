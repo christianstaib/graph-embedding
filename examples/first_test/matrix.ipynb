{
 "cells": [
  {
   "cell_type": "code",
   "execution_count": null,
   "metadata": {},
   "outputs": [],
   "source": [
    "from ogb.graphproppred import GraphPropPredDataset\n",
    "\n",
    "import networkx as nx\n",
    "import numpy as np\n",
    "\n",
    "from tqdm import tqdm"
   ]
  },
  {
   "cell_type": "code",
   "execution_count": null,
   "metadata": {},
   "outputs": [],
   "source": [
    "dataset = GraphPropPredDataset(name = 'ogbg-molfreesolv')\n",
    "\n",
    "split_idx = dataset.get_idx_split()\n",
    "train_idx, valid_idx, test_idx = split_idx[\"train\"], split_idx[\"valid\"], split_idx[\"test\"]"
   ]
  },
  {
   "cell_type": "code",
   "execution_count": null,
   "metadata": {},
   "outputs": [],
   "source": [
    "feature_names = [\n",
    "    'atomic_num',\n",
    "    'chirality',\n",
    "    'degree',\n",
    "    'formal_charge',\n",
    "    'num_h',\n",
    "    'num_rad_e',\n",
    "    'hybridization',\n",
    "    'is_aromatic',\n",
    "    'is_in_ring',\n",
    "]"
   ]
  },
  {
   "cell_type": "code",
   "execution_count": null,
   "metadata": {},
   "outputs": [],
   "source": [
    "def graph_dict_to_nx_graph(graph_dict: dict):\n",
    "    \"\"\"\n",
    "    Constructs a NetworkX graph object from the given graph dictionary.\n",
    "\n",
    "    Args:\n",
    "        graph_dict: A dictionary representing a graph, with the following keys:\n",
    "            - 'num_nodes': The number of nodes in the graph.\n",
    "            - 'node_feat': A list of node features, with one feature vector per node.\n",
    "            - 'edge_index': An edge index array of shape (2, E), where E is the number of edges.\n",
    "            - 'edge_feat': A list of edge features, with one feature vector per edge.\n",
    "\n",
    "    Returns:\n",
    "        A NetworkX graph object with nodes and edges corresponding to the input graph.\n",
    "    \"\"\"\n",
    "    graph = nx.Graph()\n",
    "    graph.add_nodes_from(range(graph_dict['num_nodes']))\n",
    "\n",
    "    for node_number, features in enumerate(graph_dict['node_feat']):\n",
    "        graph.add_node(node_number)\n",
    "        for k, v in zip(feature_names, features):\n",
    "            graph.nodes[node_number][k] = v\n",
    "\n",
    "    # change shape from (2, E) to (E, 2)\n",
    "    edge_list = np.transpose(graph_dict['edge_index'])\n",
    "    for node_number, (from_node, to_node) in enumerate(edge_list):\n",
    "        features = graph_dict['edge_feat'][node_number]\n",
    "        graph.add_edge(from_node, to_node, feature=features)\n",
    "\n",
    "    return graph"
   ]
  },
  {
   "cell_type": "code",
   "execution_count": null,
   "metadata": {},
   "outputs": [],
   "source": [
    "def get_shortest_paths(G):\n",
    "    path = dict(nx.all_pairs_shortest_path(G))\n",
    "\n",
    "    shortest_paths = [\n",
    "        path[from_vertex][to_vertex] \n",
    "        for from_vertex in path \n",
    "        for to_vertex in path[from_vertex] \n",
    "        if from_vertex != to_vertex\n",
    "    ]\n",
    "\n",
    "    return shortest_paths"
   ]
  },
  {
   "cell_type": "code",
   "execution_count": null,
   "metadata": {},
   "outputs": [],
   "source": [
    "def get_sentences(graph_dict):\n",
    "    G = graph_dict_to_nx_graph(graph_dict)\n",
    "\n",
    "    shortest_paths = get_shortest_paths(G)\n",
    "\n",
    "    sentences = [\n",
    "        ' '.join(str(G.nodes[vertex]['atomic_num']) for vertex in shortest_path)\n",
    "        for shortest_path in shortest_paths\n",
    "    ]\n",
    "    \n",
    "    return sentences"
   ]
  },
  {
   "cell_type": "code",
   "execution_count": null,
   "metadata": {},
   "outputs": [],
   "source": [
    "graphs = [graph for graph, label in dataset]\n",
    "labels = [label for graph, label in dataset]\n",
    "\n",
    "train_graphs = [graphs[i] for i in train_idx]\n",
    "train_labels = [labels[i] for i in train_idx]\n",
    "\n",
    "test_graphs = [graphs[i] for i in test_idx]\n",
    "test_labels = [labels[i] for i in test_idx]\n",
    "\n",
    "valid_graphs = [graphs[i] for i in valid_idx]\n",
    "valid_labels = [labels[i] for i in valid_idx]"
   ]
  },
  {
   "cell_type": "code",
   "execution_count": null,
   "metadata": {},
   "outputs": [],
   "source": [
    "my_sentences = [get_sentences(graph) for graph in tqdm(train_graphs)]"
   ]
  },
  {
   "cell_type": "code",
   "execution_count": null,
   "metadata": {},
   "outputs": [],
   "source": [
    "my_sentences[0][:10]"
   ]
  },
  {
   "cell_type": "code",
   "execution_count": null,
   "metadata": {},
   "outputs": [
    {
     "ename": "",
     "evalue": "",
     "output_type": "error",
     "traceback": [
      "\u001b[1;31mFailed to start the Kernel. \n",
      "\u001b[1;31mView Jupyter <a href='command:jupyter.viewOutput'>log</a> for further details."
     ]
    }
   ],
   "source": [
    "def stub(x):\n",
    "    return x"
   ]
  },
  {
   "cell_type": "code",
   "execution_count": 2,
   "metadata": {},
   "outputs": [],
   "source": [
    "from multiprocessing import Pool\n",
    "\n",
    "list_of_sentences = []\n",
    "\n",
    "with Pool() as pool:\n",
    "    for sentences in pool.map(stub, range(1000)):\n",
    "        list_of_sentences.append(sentences)\n",
    "\n",
    "list_of_sentences[:10]"
   ]
  },
  {
   "cell_type": "code",
   "execution_count": null,
   "metadata": {},
   "outputs": [],
   "source": [
    "len(list_of_sentences[0])"
   ]
  }
 ],
 "metadata": {
  "kernelspec": {
   "display_name": "Python 3 (ipykernel)",
   "language": "python",
   "name": "python3"
  },
  "language_info": {
   "name": "python",
   "version": "3.10.6"
  },
  "orig_nbformat": 4,
  "vscode": {
   "interpreter": {
    "hash": "49a37175ae461c871448db5b910f888946986d712fbe7f4eb4803e98171f43ee"
   }
  }
 },
 "nbformat": 4,
 "nbformat_minor": 2
}
