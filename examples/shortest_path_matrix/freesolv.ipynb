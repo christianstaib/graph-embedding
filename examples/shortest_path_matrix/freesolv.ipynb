{
 "cells": [
  {
   "cell_type": "code",
   "execution_count": 1,
   "metadata": {},
   "outputs": [
    {
     "name": "stderr",
     "output_type": "stream",
     "text": [
      "WARNING:root:The OGB package is out of date. Your version is 1.3.4, while the latest version is 1.3.5.\n",
      "c:\\Users\\staib\\AppData\\Local\\Programs\\Python\\Python39\\lib\\site-packages\\tqdm\\auto.py:22: TqdmWarning: IProgress not found. Please update jupyter and ipywidgets. See https://ipywidgets.readthedocs.io/en/stable/user_install.html\n",
      "  from .autonotebook import tqdm as notebook_tqdm\n"
     ]
    }
   ],
   "source": [
    "import os\n",
    "from multiprocessing import Pool\n",
    "\n",
    "import networkx as nx\n",
    "import numpy as np\n",
    "from karateclub import Graph2Vec\n",
    "from ogb.graphproppred import Evaluator, GraphPropPredDataset\n",
    "from sklearn import svm\n",
    "from tqdm import tqdm"
   ]
  },
  {
   "cell_type": "code",
   "execution_count": 2,
   "metadata": {},
   "outputs": [],
   "source": [
    "feature_names = [\n",
    "    'atomic_num',\n",
    "    'chirality',\n",
    "    'degree',\n",
    "    'formal_charge',\n",
    "    'num_h',\n",
    "    'num_rad_e',\n",
    "    'hybridization',\n",
    "    'is_aromatic',\n",
    "    'is_in_ring',\n",
    "]"
   ]
  },
  {
   "cell_type": "code",
   "execution_count": 3,
   "metadata": {},
   "outputs": [],
   "source": [
    "def graph_dict_to_nx_graph(\n",
    "    graph_dict: dict\n",
    "):\n",
    "    \"\"\"\n",
    "    Constructs a NetworkX graph object from the given graph dictionary.\n",
    "\n",
    "    Args:\n",
    "        graph_dict: A dictionary representing a graph, with the following keys:\n",
    "            - 'num_nodes': The number of nodes in the graph.\n",
    "            - 'node_feat': A list of node features, with one feature vector per node.\n",
    "            - 'edge_index': An edge index array of shape (2, E), where E is the number of edges.\n",
    "            - 'edge_feat': A list of edge features, with one feature vector per edge.\n",
    "\n",
    "    Returns:\n",
    "        A NetworkX graph object with nodes and edges corresponding to the input graph.\n",
    "    \"\"\"\n",
    "    graph = nx.Graph()\n",
    "    graph.add_nodes_from(range(graph_dict['num_nodes']))\n",
    "\n",
    "    for node_number, features in enumerate(graph_dict['node_feat']):\n",
    "        graph.add_node(node_number, feature=features)\n",
    "\n",
    "    # change shape from (2, E) to (E, 2)\n",
    "    edge_list = np.transpose(graph_dict['edge_index'])\n",
    "    for node_number, (from_node, to_node) in enumerate(edge_list):\n",
    "        features = graph_dict['edge_feat'][node_number]\n",
    "        graph.add_edge(from_node, to_node, feature=features)\n",
    "\n",
    "    return graph"
   ]
  },
  {
   "cell_type": "code",
   "execution_count": 4,
   "metadata": {},
   "outputs": [],
   "source": [
    "def edges_to_nodes(\n",
    "    graph:      nx.Graph\n",
    ") -> nx.Graph:\n",
    "    \"\"\"\n",
    "    Generates a new graph where each edge (u, v) is replaced with two edges\n",
    "    (u, uv), (uv, v) and a new node uv. The attributes of the edge are\n",
    "    copied to the new edge. This method may help if a graph embedding does\n",
    "    not not support edge attributes.\n",
    "    \"\"\"\n",
    "    new_graph = nx.Graph()\n",
    "    max_node = max(list(graph.nodes))\n",
    "\n",
    "    for node in nx.nodes(graph):\n",
    "        new_graph.add_node(node)\n",
    "\n",
    "        features = graph.nodes[node]\n",
    "        new_graph.nodes[node].update(features)\n",
    "\n",
    "    for u, v in nx.edges(graph):\n",
    "        max_node += 1\n",
    "\n",
    "        new_graph.add_node(max_node)\n",
    "        new_graph.add_edge(u, max_node)\n",
    "        new_graph.add_edge(max_node, v)\n",
    "\n",
    "        features = graph.edges[u, v]\n",
    "        new_graph.nodes[max_node].update(features)\n",
    "\n",
    "    return graph  # new_graph"
   ]
  },
  {
   "cell_type": "code",
   "execution_count": 5,
   "metadata": {},
   "outputs": [],
   "source": [
    "def get_shortest_paths(graph):\n",
    "    shortest_paths = []\n",
    "\n",
    "    shortest_path_dict = dict(nx.all_pairs_shortest_path(graph))\n",
    "\n",
    "    for source in graph.nodes:\n",
    "        for target in graph.nodes:\n",
    "            shortest_path = shortest_path_dict[source][target]\n",
    "            if len(shortest_path) >= 2:\n",
    "                shortest_paths.append(shortest_path)\n",
    "\n",
    "    return shortest_paths"
   ]
  },
  {
   "cell_type": "code",
   "execution_count": 10,
   "metadata": {},
   "outputs": [
    {
     "name": "stdout",
     "output_type": "stream",
     "text": [
      "Using exist file hiv.zip\n",
      "Extracting dataset\\hiv.zip\n"
     ]
    },
    {
     "ename": "BadZipFile",
     "evalue": "File is not a zip file",
     "output_type": "error",
     "traceback": [
      "\u001b[1;31m---------------------------------------------------------------------------\u001b[0m",
      "\u001b[1;31mBadZipFile\u001b[0m                                Traceback (most recent call last)",
      "\u001b[1;32mc:\\Users\\staib\\Documents\\GitHub\\graph-embedding\\examples\\shortest_path_matrix\\freesolv.ipynb Cell 6\u001b[0m in \u001b[0;36m2\n\u001b[0;32m      <a href='vscode-notebook-cell:/c%3A/Users/staib/Documents/GitHub/graph-embedding/examples/shortest_path_matrix/freesolv.ipynb#W1sZmlsZQ%3D%3D?line=0'>1</a>\u001b[0m dataset_name \u001b[39m=\u001b[39m \u001b[39m'\u001b[39m\u001b[39mogbg-molhiv\u001b[39m\u001b[39m'\u001b[39m\n\u001b[1;32m----> <a href='vscode-notebook-cell:/c%3A/Users/staib/Documents/GitHub/graph-embedding/examples/shortest_path_matrix/freesolv.ipynb#W1sZmlsZQ%3D%3D?line=1'>2</a>\u001b[0m dataset \u001b[39m=\u001b[39m GraphPropPredDataset(name\u001b[39m=\u001b[39;49mdataset_name)\n\u001b[0;32m      <a href='vscode-notebook-cell:/c%3A/Users/staib/Documents/GitHub/graph-embedding/examples/shortest_path_matrix/freesolv.ipynb#W1sZmlsZQ%3D%3D?line=2'>3</a>\u001b[0m split_idx \u001b[39m=\u001b[39m dataset\u001b[39m.\u001b[39mget_idx_split()\n\u001b[0;32m      <a href='vscode-notebook-cell:/c%3A/Users/staib/Documents/GitHub/graph-embedding/examples/shortest_path_matrix/freesolv.ipynb#W1sZmlsZQ%3D%3D?line=4'>5</a>\u001b[0m line \u001b[39m=\u001b[39m \u001b[39m1\u001b[39m\n",
      "File \u001b[1;32mc:\\Users\\staib\\AppData\\Local\\Programs\\Python\\Python39\\lib\\site-packages\\ogb\\graphproppred\\dataset.py:59\u001b[0m, in \u001b[0;36mGraphPropPredDataset.__init__\u001b[1;34m(self, name, root, meta_dict)\u001b[0m\n\u001b[0;32m     55\u001b[0m \u001b[39mself\u001b[39m\u001b[39m.\u001b[39mbinary \u001b[39m=\u001b[39m \u001b[39mself\u001b[39m\u001b[39m.\u001b[39mmeta_info[\u001b[39m'\u001b[39m\u001b[39mbinary\u001b[39m\u001b[39m'\u001b[39m] \u001b[39m==\u001b[39m \u001b[39m'\u001b[39m\u001b[39mTrue\u001b[39m\u001b[39m'\u001b[39m\n\u001b[0;32m     57\u001b[0m \u001b[39msuper\u001b[39m(GraphPropPredDataset, \u001b[39mself\u001b[39m)\u001b[39m.\u001b[39m\u001b[39m__init__\u001b[39m()\n\u001b[1;32m---> 59\u001b[0m \u001b[39mself\u001b[39;49m\u001b[39m.\u001b[39;49mpre_process()\n",
      "File \u001b[1;32mc:\\Users\\staib\\AppData\\Local\\Programs\\Python\\Python39\\lib\\site-packages\\ogb\\graphproppred\\dataset.py:84\u001b[0m, in \u001b[0;36mGraphPropPredDataset.pre_process\u001b[1;34m(self)\u001b[0m\n\u001b[0;32m     82\u001b[0m \u001b[39mif\u001b[39;00m decide_download(url):\n\u001b[0;32m     83\u001b[0m     path \u001b[39m=\u001b[39m download_url(url, \u001b[39mself\u001b[39m\u001b[39m.\u001b[39moriginal_root)\n\u001b[1;32m---> 84\u001b[0m     extract_zip(path, \u001b[39mself\u001b[39;49m\u001b[39m.\u001b[39;49moriginal_root)\n\u001b[0;32m     85\u001b[0m     os\u001b[39m.\u001b[39munlink(path)\n\u001b[0;32m     86\u001b[0m     \u001b[39m# delete folder if there exists\u001b[39;00m\n",
      "File \u001b[1;32mc:\\Users\\staib\\AppData\\Local\\Programs\\Python\\Python39\\lib\\site-packages\\ogb\\utils\\url.py:87\u001b[0m, in \u001b[0;36mextract_zip\u001b[1;34m(path, folder, log)\u001b[0m\n\u001b[0;32m     79\u001b[0m \u001b[39mr\u001b[39m\u001b[39m\"\"\"Extracts a zip archive to a specific folder.\u001b[39;00m\n\u001b[0;32m     80\u001b[0m \u001b[39mArgs:\u001b[39;00m\n\u001b[0;32m     81\u001b[0m \u001b[39m    path (string): The path to the tar archive.\u001b[39;00m\n\u001b[1;32m   (...)\u001b[0m\n\u001b[0;32m     84\u001b[0m \u001b[39m        console. (default: :obj:`True`)\u001b[39;00m\n\u001b[0;32m     85\u001b[0m \u001b[39m\"\"\"\u001b[39;00m\n\u001b[0;32m     86\u001b[0m maybe_log(path, log)\n\u001b[1;32m---> 87\u001b[0m \u001b[39mwith\u001b[39;00m zipfile\u001b[39m.\u001b[39;49mZipFile(path, \u001b[39m'\u001b[39;49m\u001b[39mr\u001b[39;49m\u001b[39m'\u001b[39;49m) \u001b[39mas\u001b[39;00m f:\n\u001b[0;32m     88\u001b[0m     f\u001b[39m.\u001b[39mextractall(folder)\n",
      "File \u001b[1;32mc:\\Users\\staib\\AppData\\Local\\Programs\\Python\\Python39\\lib\\zipfile.py:1266\u001b[0m, in \u001b[0;36mZipFile.__init__\u001b[1;34m(self, file, mode, compression, allowZip64, compresslevel, strict_timestamps)\u001b[0m\n\u001b[0;32m   1264\u001b[0m \u001b[39mtry\u001b[39;00m:\n\u001b[0;32m   1265\u001b[0m     \u001b[39mif\u001b[39;00m mode \u001b[39m==\u001b[39m \u001b[39m'\u001b[39m\u001b[39mr\u001b[39m\u001b[39m'\u001b[39m:\n\u001b[1;32m-> 1266\u001b[0m         \u001b[39mself\u001b[39;49m\u001b[39m.\u001b[39;49m_RealGetContents()\n\u001b[0;32m   1267\u001b[0m     \u001b[39melif\u001b[39;00m mode \u001b[39min\u001b[39;00m (\u001b[39m'\u001b[39m\u001b[39mw\u001b[39m\u001b[39m'\u001b[39m, \u001b[39m'\u001b[39m\u001b[39mx\u001b[39m\u001b[39m'\u001b[39m):\n\u001b[0;32m   1268\u001b[0m         \u001b[39m# set the modified flag so central directory gets written\u001b[39;00m\n\u001b[0;32m   1269\u001b[0m         \u001b[39m# even if no files are added to the archive\u001b[39;00m\n\u001b[0;32m   1270\u001b[0m         \u001b[39mself\u001b[39m\u001b[39m.\u001b[39m_didModify \u001b[39m=\u001b[39m \u001b[39mTrue\u001b[39;00m\n",
      "File \u001b[1;32mc:\\Users\\staib\\AppData\\Local\\Programs\\Python\\Python39\\lib\\zipfile.py:1333\u001b[0m, in \u001b[0;36mZipFile._RealGetContents\u001b[1;34m(self)\u001b[0m\n\u001b[0;32m   1331\u001b[0m     \u001b[39mraise\u001b[39;00m BadZipFile(\u001b[39m\"\u001b[39m\u001b[39mFile is not a zip file\u001b[39m\u001b[39m\"\u001b[39m)\n\u001b[0;32m   1332\u001b[0m \u001b[39mif\u001b[39;00m \u001b[39mnot\u001b[39;00m endrec:\n\u001b[1;32m-> 1333\u001b[0m     \u001b[39mraise\u001b[39;00m BadZipFile(\u001b[39m\"\u001b[39m\u001b[39mFile is not a zip file\u001b[39m\u001b[39m\"\u001b[39m)\n\u001b[0;32m   1334\u001b[0m \u001b[39mif\u001b[39;00m \u001b[39mself\u001b[39m\u001b[39m.\u001b[39mdebug \u001b[39m>\u001b[39m \u001b[39m1\u001b[39m:\n\u001b[0;32m   1335\u001b[0m     \u001b[39mprint\u001b[39m(endrec)\n",
      "\u001b[1;31mBadZipFile\u001b[0m: File is not a zip file"
     ]
    }
   ],
   "source": [
    "dataset_name = 'ogbg-molhiv'\n",
    "dataset = GraphPropPredDataset(name=dataset_name)\n",
    "split_idx = dataset.get_idx_split()\n",
    "\n",
    "line = 1\n",
    "\n",
    "feat_to_include = [0, 1]\n",
    "\n",
    "labels = []\n",
    "with open('shortest_paths.txt', 'w') as f:\n",
    "    for i, (graph_dict, label) in enumerate(tqdm(dataset)):\n",
    "        graph = graph_dict_to_nx_graph(graph_dict)\n",
    "        shortest_paths = get_shortest_paths(graph)\n",
    "        for shortest_path in shortest_paths:\n",
    "            path_str = []\n",
    "            for node_id in shortest_path:\n",
    "                for j, feat in enumerate(feat_to_include):\n",
    "                    path_str.append(f'{j}_{graph.nodes[node_id][\"feature\"][feat]}')\n",
    "            path_str = ' '.join(path_str)\n",
    "            f.write(str(i) + ' ' + path_str + \"\\n\")\n",
    "            line += 1\n",
    "        labels.append(label)"
   ]
  }
 ],
 "metadata": {
  "kernelspec": {
   "display_name": "Python 3",
   "language": "python",
   "name": "python3"
  },
  "language_info": {
   "codemirror_mode": {
    "name": "ipython",
    "version": 3
   },
   "file_extension": ".py",
   "mimetype": "text/x-python",
   "name": "python",
   "nbconvert_exporter": "python",
   "pygments_lexer": "ipython3",
   "version": "3.9.13"
  },
  "orig_nbformat": 4
 },
 "nbformat": 4,
 "nbformat_minor": 2
}
