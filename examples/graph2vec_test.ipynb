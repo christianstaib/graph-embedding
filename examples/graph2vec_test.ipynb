{
 "cells": [
  {
   "cell_type": "code",
   "execution_count": 1,
   "metadata": {},
   "outputs": [],
   "source": [
    "from ogb.graphproppred import GraphPropPredDataset\n",
    "from tqdm import tqdm\n",
    "import networkx as nx\n",
    "import numpy as np\n",
    "from multiprocessing import Pool\n",
    "import os\n",
    "import matplotlib.pyplot as plt"
   ]
  },
  {
   "cell_type": "code",
   "execution_count": 2,
   "metadata": {},
   "outputs": [],
   "source": [
    "dataset_name = 'ogbg-molfreesolv'"
   ]
  },
  {
   "cell_type": "code",
   "execution_count": 3,
   "metadata": {},
   "outputs": [],
   "source": [
    "def graph_dict_to_nx_graph(\n",
    "    graph_dict: dict\n",
    "    ):\n",
    "    \"\"\"\n",
    "    Constructs a NetworkX graph object from the given graph dictionary.\n",
    "\n",
    "    Args:\n",
    "        graph_dict: A dictionary representing a graph, with the following keys:\n",
    "            - 'num_nodes': The number of nodes in the graph.\n",
    "            - 'node_feat': A list of node features, with one feature vector per node.\n",
    "            - 'edge_index': An edge index array of shape (2, E), where E is the number of edges.\n",
    "            - 'edge_feat': A list of edge features, with one feature vector per edge.\n",
    "\n",
    "    Returns:\n",
    "        A NetworkX graph object with nodes and edges corresponding to the input graph.\n",
    "    \"\"\"\n",
    "    graph = nx.Graph()\n",
    "    graph.add_nodes_from(range(graph_dict['num_nodes']))\n",
    "\n",
    "    for node_number, features in enumerate(graph_dict['node_feat']):\n",
    "        graph.add_node(node_number, feature=features)\n",
    "\n",
    "    # change shape from (2, E) to (E, 2)\n",
    "    edge_list = np.transpose(graph_dict['edge_index'])\n",
    "    for node_number, (from_node, to_node) in enumerate(edge_list):\n",
    "        features = graph_dict['edge_feat'][node_number]\n",
    "        graph.add_edge(from_node, to_node, feature=features)\n",
    "\n",
    "    return graph"
   ]
  },
  {
   "cell_type": "code",
   "execution_count": 4,
   "metadata": {},
   "outputs": [],
   "source": [
    "def edges_to_nodes(\n",
    "    graph:      nx.Graph\n",
    ") -> nx.Graph:\n",
    "    \"\"\"\n",
    "    Generates a new graph where each edge (u, v) is replaced with two edges\n",
    "    (u, uv), (uv, v) and a new node uv. The attributes of the edge are\n",
    "    copied to the new edge. This method may help if a graph embedding does\n",
    "    not not support edge attributes.\n",
    "    \"\"\"\n",
    "    new_graph = nx.Graph()\n",
    "    max_node = max(list(graph.nodes))\n",
    "\n",
    "    for node in nx.nodes(graph):\n",
    "        new_graph.add_node(node)\n",
    "\n",
    "        features = graph.nodes[node]\n",
    "        new_graph.nodes[node].update(features)\n",
    "\n",
    "    for u, v in nx.edges(graph):\n",
    "        max_node += 1\n",
    "\n",
    "        new_graph.add_node(max_node)\n",
    "        new_graph.add_edge(u, max_node)\n",
    "        new_graph.add_edge(max_node, v)\n",
    "\n",
    "        features = graph.edges[u, v]\n",
    "        new_graph.nodes[max_node].update(features)\n",
    "\n",
    "    return new_graph"
   ]
  },
  {
   "cell_type": "code",
   "execution_count": 5,
   "metadata": {},
   "outputs": [],
   "source": [
    "def get_graph(graph_dict):\n",
    "    return edges_to_nodes(graph_dict_to_nx_graph(graph_dict))"
   ]
  },
  {
   "cell_type": "code",
   "execution_count": 6,
   "metadata": {},
   "outputs": [
    {
     "name": "stderr",
     "output_type": "stream",
     "text": [
      "100%|██████████| 642/642 [00:00<00:00, 533850.75it/s]\n"
     ]
    }
   ],
   "source": [
    "# get graph_dicts and labels\n",
    "dataset = GraphPropPredDataset(name=dataset_name)\n",
    "split_idx = dataset.get_idx_split()\n",
    "\n",
    "graph_dicts = []\n",
    "labels = []\n",
    "for graph_dict, label in tqdm(dataset):\n",
    "    graph_dicts.append(graph_dict)\n",
    "    labels.append(label)"
   ]
  },
  {
   "cell_type": "code",
   "execution_count": 7,
   "metadata": {},
   "outputs": [
    {
     "name": "stderr",
     "output_type": "stream",
     "text": [
      "100%|██████████| 642/642 [00:00<00:00, 1783.13it/s]\n"
     ]
    }
   ],
   "source": [
    "# get nx graphs\n",
    "graphs = []\n",
    "with Pool() as pool:\n",
    "    for graph in tqdm(\n",
    "        pool.imap(get_graph, graph_dicts), \n",
    "        total=len(graph_dicts)\n",
    "    ):\n",
    "        graphs.append(graph)"
   ]
  },
  {
   "cell_type": "code",
   "execution_count": 8,
   "metadata": {},
   "outputs": [],
   "source": [
    "from karateclub import Graph2Vec\n",
    "\n",
    "model = Graph2Vec(\n",
    "    attributed=True,\n",
    "    dimensions=256,\n",
    "    wl_iterations=6,\n",
    "    epochs=30,\n",
    "    workers=len(os.sched_getaffinity(0))\n",
    ")\n",
    "model.fit(graphs)\n",
    "X = model.get_embedding()"
   ]
  },
  {
   "cell_type": "code",
   "execution_count": 9,
   "metadata": {},
   "outputs": [],
   "source": [
    "y = np.array(labels)"
   ]
  },
  {
   "cell_type": "code",
   "execution_count": 14,
   "metadata": {},
   "outputs": [],
   "source": [
    "import numpy as np\n",
    "\n",
    "X_train = np.array([X[i] for i in split_idx['train']])\n",
    "y_train = np.array([y[i] for i in split_idx['train']]).ravel()\n",
    "\n",
    "X_test = np.array([X[i] for i in split_idx['test']])\n",
    "y_test = np.array([y[i] for i in split_idx['test']]).ravel()\n",
    "\n",
    "X_valid = np.array([X[i] for i in split_idx['valid']])\n",
    "y_valid = np.array([y[i] for i in split_idx['valid']]).ravel()"
   ]
  },
  {
   "cell_type": "code",
   "execution_count": 11,
   "metadata": {},
   "outputs": [
    {
     "data": {
      "text/plain": [
       "AutoSklearnRegressor(ensemble_class=<class 'autosklearn.ensembles.ensemble_selection.EnsembleSelection'>,\n",
       "                     memory_limit=9999, per_run_time_limit=30,\n",
       "                     time_left_for_this_task=120)"
      ]
     },
     "execution_count": 11,
     "metadata": {},
     "output_type": "execute_result"
    }
   ],
   "source": [
    "import autosklearn.regression\n",
    "\n",
    "automl = autosklearn.regression.AutoSklearnRegressor(\n",
    "    time_left_for_this_task=120,\n",
    "    per_run_time_limit=30,\n",
    "    memory_limit=9999\n",
    ")\n",
    "automl.fit(X_train, y_train, X_test=X_test, y_test=y_test)"
   ]
  },
  {
   "cell_type": "code",
   "execution_count": 12,
   "metadata": {},
   "outputs": [
    {
     "data": {
      "text/plain": [
       "<matplotlib.collections.PathCollection at 0x7fc7cb2c05e0>"
      ]
     },
     "execution_count": 12,
     "metadata": {},
     "output_type": "execute_result"
    },
    {
     "data": {
      "image/png": "[encoded data removed]",
      "text/plain": [
       "<Figure size 640x480 with 1 Axes>"
      ]
     },
     "metadata": {},
     "output_type": "display_data"
    }
   ],
   "source": [
    "y_test_pred = automl.predict(X_test)\n",
    "plt.scatter(y_test, y_test_pred)"
   ]
  },
  {
   "cell_type": "code",
   "execution_count": 19,
   "metadata": {},
   "outputs": [
    {
     "data": {
      "text/plain": [
       "{'rmse': 5.8117738124106495}"
      ]
     },
     "execution_count": 19,
     "metadata": {},
     "output_type": "execute_result"
    }
   ],
   "source": [
    "from ogb.graphproppred import Evaluator\n",
    "\n",
    "evaluator = Evaluator(name = dataset_name)\n",
    "input_dict = {\"y_true\": y_valid.reshape(-1, 1), \"y_pred\": automl.predict(X_valid).reshape(-1, 1)}\n",
    "result_dict = evaluator.eval(input_dict)\n",
    "result_dict"
   ]
  }
 ],
 "metadata": {
  "kernelspec": {
   "display_name": "Python 3",
   "language": "python",
   "name": "python3"
  },
  "language_info": {
   "codemirror_mode": {
    "name": "ipython",
    "version": 3
   },
   "file_extension": ".py",
   "mimetype": "text/x-python",
   "name": "python",
   "nbconvert_exporter": "python",
   "pygments_lexer": "ipython3",
   "version": "3.8.10"
  },
  "orig_nbformat": 4,
  "vscode": {
   "interpreter": {
    "hash": "31f2aee4e71d21fbe5cf8b01ff0e069b9275f58929596ceb00d14d90e3e16cd6"
   }
  }
 },
 "nbformat": 4,
 "nbformat_minor": 2
}
