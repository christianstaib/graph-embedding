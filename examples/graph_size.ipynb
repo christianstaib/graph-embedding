{
 "cells": [
  {
   "cell_type": "code",
   "execution_count": null,
   "metadata": {},
   "outputs": [],
   "source": [
    "from ogb.graphproppred import GraphPropPredDataset\n",
    "import random\n",
    "from tqdm import tqdm\n",
    "from gensim.models.doc2vec import Doc2Vec, TaggedDocument\n",
    "import numpy as np\n",
    "from multiprocessing import Pool\n",
    "import os"
   ]
  },
  {
   "cell_type": "code",
   "execution_count": null,
   "metadata": {},
   "outputs": [],
   "source": [
    "N = 100\n",
    "MAX_WALK_LENGTH = 100\n",
    "WORKERS = len(os.sched_getaffinity(0))"
   ]
  },
  {
   "cell_type": "code",
   "execution_count": null,
   "metadata": {},
   "outputs": [],
   "source": [
    "dataset_name = 'ogbg-molhiv'\n",
    "dataset = GraphPropPredDataset(name=dataset_name)\n",
    "split_idx = dataset.get_idx_split()\n",
    "\n",
    "graph_dicts = [graph_dict for graph_dict, _ in tqdm(dataset)]\n",
    "labels = [label for _, label in tqdm(dataset)]"
   ]
  },
  {
   "cell_type": "code",
   "execution_count": null,
   "metadata": {},
   "outputs": [],
   "source": [
    "def get_neighborhood(graph_dict, node):\n",
    "    neighborhood = {\n",
    "        'nodes': [],\n",
    "        'edges': []\n",
    "    }\n",
    "\n",
    "    from_nodes = graph_dict['edge_index'][0]\n",
    "    to_nodes = graph_dict['edge_index'][1]\n",
    "    \n",
    "    for index, from_node in enumerate(from_nodes):\n",
    "        if from_nodes[index] == node:\n",
    "            neighborhood['nodes'].append(to_nodes[index])\n",
    "            neighborhood['edges'].append(index)\n",
    "\n",
    "    return neighborhood\n",
    "\n",
    "def get_node_attributes(graph_dict, node):\n",
    "    return [f'v{i}_{v}'for i, v in enumerate(graph_dict['node_feat'][node])]\n",
    "\n",
    "def get_edge_attributes(graph_dict, edge):\n",
    "    return [f'e{i}_{v}'for i, v in enumerate(graph_dict['edge_feat'][edge])]"
   ]
  },
  {
   "cell_type": "code",
   "execution_count": null,
   "metadata": {},
   "outputs": [],
   "source": [
    "def random_walk_evenly_distributed(graph_dict, how_often_visited):\n",
    "    walk = {\n",
    "        'vertices': [],\n",
    "        'edges': []\n",
    "    }\n",
    "\n",
    "    # initialize with invalid value to make sure that the first vertex is not removed\n",
    "    previous_vertex = -1\n",
    "\n",
    "    # choose random start vertex\n",
    "    least_visited_vertices = []\n",
    "    for i, x in enumerate(how_often_visited):\n",
    "        if x == min(how_often_visited):\n",
    "            least_visited_vertices.append(i)\n",
    "    vertex = random.choice(least_visited_vertices)\n",
    "    how_often_visited[vertex] += 1\n",
    "\n",
    "    # append the first vertex to the walk\n",
    "    walk['vertices'].append(vertex)\n",
    "\n",
    "    for _ in range(MAX_WALK_LENGTH):\n",
    "        neighborhood = get_neighborhood(graph_dict, vertex)\n",
    "        \n",
    "        # remove previous vertex from neighborhood\n",
    "        if previous_vertex in neighborhood['nodes']:\n",
    "            index_to_remove = neighborhood['nodes'].index(previous_vertex)\n",
    "            neighborhood['nodes'].pop(index_to_remove)\n",
    "            neighborhood['edges'].pop(index_to_remove)\n",
    "        previous_vertex = vertex\n",
    "\n",
    "        # if there are no more neighbors, stop\n",
    "        if len(neighborhood['nodes']) == 0:\n",
    "            break\n",
    "\n",
    "        # choose the next vertex to visit\n",
    "        edge = random.choice(neighborhood['edges'])\n",
    "        vertex = graph_dict['edge_index'][1][edge]\n",
    "        how_often_visited[vertex] += 1\n",
    "\n",
    "        # append the next vertex and edge to the walk\n",
    "        walk['edges'].append(edge)\n",
    "        walk['vertices'].append(vertex)\n",
    "\n",
    "    return walk, how_often_visited"
   ]
  },
  {
   "cell_type": "code",
   "execution_count": null,
   "metadata": {},
   "outputs": [],
   "source": [
    "def walk_to_list_of_attributes(graph_dict, walk):\n",
    "    list = []\n",
    "\n",
    "    for i in range(len(walk['edges'])):\n",
    "        list += get_node_attributes(graph_dict, walk['vertices'][i])\n",
    "        list += get_edge_attributes(graph_dict, walk['edges'][i])\n",
    "    \n",
    "    list += get_node_attributes(graph_dict, walk['vertices'][-1])\n",
    "\n",
    "    return list"
   ]
  },
  {
   "cell_type": "code",
   "execution_count": null,
   "metadata": {},
   "outputs": [],
   "source": [
    "def walk_to_words(graph_dict, walk):\n",
    "    list_of_attributes = walk_to_list_of_attributes(graph_dict, walk)\n",
    "    words = [attributes for attributes in list_of_attributes]\n",
    "    return words"
   ]
  },
  {
   "cell_type": "code",
   "execution_count": 41,
   "metadata": {},
   "outputs": [
    {
     "name": "stderr",
     "output_type": "stream",
     "text": [
      " 40%|███▉      | 16249/41127 [08:32<13:04, 31.72it/s] \n"
     ]
    }
   ],
   "source": [
    "words = []\n",
    "\n",
    "def generate_words(graph_dict):\n",
    "    how_often_visited = [0] * graph_dict['num_nodes']\n",
    "\n",
    "    this_graphs_words = []\n",
    "    for _ in range(N):\n",
    "        walk, how_often_visited = random_walk_evenly_distributed(graph_dict, how_often_visited)\n",
    "        this_graphs_words.append(walk_to_words(graph_dict, walk))\n",
    "    return this_graphs_words\n",
    "\n",
    "with Pool() as pool:\n",
    "    for this_graphs_words in tqdm(pool.imap(generate_words, graph_dicts, chunksize=10), total=len(graph_dicts)):\n",
    "        words.append(this_graphs_words)"
   ]
  },
  {
   "cell_type": "code",
   "execution_count": null,
   "metadata": {},
   "outputs": [],
   "source": [
    "with open('words.cor', 'w') as test_file:\n",
    "    for sub_words in words:\n",
    "        for sub_sub_words in sub_words:\n",
    "            test_file.write(' '.join(sub_sub_words) + '\\n')"
   ]
  },
  {
   "cell_type": "code",
   "execution_count": null,
   "metadata": {},
   "outputs": [],
   "source": [
    "from gensim.test.utils import common_texts, common_dictionary, common_corpus\n"
   ]
  },
  {
   "cell_type": "code",
   "execution_count": null,
   "metadata": {},
   "outputs": [],
   "source": [
    "model = Doc2Vec(corpus_file='words.cor', workers=WORKERS, window=15)"
   ]
  },
  {
   "cell_type": "code",
   "execution_count": null,
   "metadata": {},
   "outputs": [],
   "source": [
    "X = np.array([sum([model.dv[i+(j*N)]/N for i in range(N)]) for j in range(len(dataset))])\n",
    "X.shape"
   ]
  },
  {
   "cell_type": "code",
   "execution_count": null,
   "metadata": {},
   "outputs": [],
   "source": [
    "import numpy as np\n",
    "\n",
    "X_train = np.array([X[i] for i in split_idx['train']])\n",
    "y_train = np.array([labels[i][0] for i in split_idx['train']])\n",
    "\n",
    "X_test = np.array([X[i] for i in split_idx['test']])\n",
    "y_test = np.array([labels[i][0] for i in split_idx['test']])"
   ]
  },
  {
   "cell_type": "code",
   "execution_count": null,
   "metadata": {},
   "outputs": [],
   "source": [
    "y_test.shape"
   ]
  },
  {
   "cell_type": "code",
   "execution_count": null,
   "metadata": {},
   "outputs": [],
   "source": [
    "from imblearn.over_sampling import RandomOverSampler\n",
    "\n",
    "ros = RandomOverSampler(random_state=0)\n",
    "\n",
    "X_resampled, y_resampled = ros.fit_resample(X_train, y_train)"
   ]
  },
  {
   "cell_type": "code",
   "execution_count": null,
   "metadata": {},
   "outputs": [],
   "source": [
    "from sklearn.ensemble import RandomForestClassifier\n",
    "from ogb.graphproppred import Evaluator"
   ]
  },
  {
   "cell_type": "code",
   "execution_count": null,
   "metadata": {},
   "outputs": [],
   "source": [
    "clf = RandomForestClassifier(n_jobs=WORKERS)\n",
    "clf.fit(X_resampled, y_resampled.ravel())"
   ]
  },
  {
   "cell_type": "code",
   "execution_count": null,
   "metadata": {},
   "outputs": [],
   "source": [
    "y_test_predicted = clf.predict(X_test)"
   ]
  },
  {
   "cell_type": "code",
   "execution_count": null,
   "metadata": {},
   "outputs": [],
   "source": [
    "y_test.shape, y_test_predicted.shape"
   ]
  },
  {
   "cell_type": "code",
   "execution_count": null,
   "metadata": {},
   "outputs": [],
   "source": [
    "pred_pos_idx = [i for i, v in enumerate(y_test_predicted) if v == 1]\n",
    "pred_neg_idx = [i for i, v in enumerate(y_test_predicted) if v == 0]\n",
    "\n",
    "len(pred_pos_idx), len(pred_neg_idx)"
   ]
  },
  {
   "cell_type": "code",
   "execution_count": null,
   "metadata": {},
   "outputs": [],
   "source": [
    "from sklearn.metrics import roc_auc_score\n",
    "roc_auc_score(y_test, y_test_predicted)"
   ]
  },
  {
   "cell_type": "code",
   "execution_count": null,
   "metadata": {},
   "outputs": [],
   "source": [
    "evaluator = Evaluator(name=dataset_name)\n",
    "input_dict = {\"y_true\": y_test.reshape(-1, 1), \"y_pred\": y_test_predicted.reshape(-1, 1)}\n",
    "result_dict = evaluator.eval(input_dict)\n",
    "result_dict"
   ]
  }
 ],
 "metadata": {
  "kernelspec": {
   "display_name": "Python 3",
   "language": "python",
   "name": "python3"
  },
  "language_info": {
   "codemirror_mode": {
    "name": "ipython",
    "version": 3
   },
   "file_extension": ".py",
   "mimetype": "text/x-python",
   "name": "python",
   "nbconvert_exporter": "python",
   "pygments_lexer": "ipython3",
   "version": "3.8.10"
  },
  "orig_nbformat": 4,
  "vscode": {
   "interpreter": {
    "hash": "31f2aee4e71d21fbe5cf8b01ff0e069b9275f58929596ceb00d14d90e3e16cd6"
   }
  }
 },
 "nbformat": 4,
 "nbformat_minor": 2
}
