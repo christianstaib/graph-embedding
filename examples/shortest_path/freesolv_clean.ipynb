{
 "cells": [
  {
   "cell_type": "code",
   "execution_count": 1,
   "metadata": {},
   "outputs": [
    {
     "name": "stderr",
     "output_type": "stream",
     "text": [
      "WARNING:root:The OGB package is out of date. Your version is 1.3.5, while the latest version is 1.3.6.\n"
     ]
    }
   ],
   "source": [
    "import os\n",
    "from multiprocessing import Pool\n",
    "\n",
    "import networkx as nx\n",
    "import numpy as np\n",
    "from karateclub import Graph2Vec\n",
    "from ogb.graphproppred import Evaluator, GraphPropPredDataset\n",
    "from sklearn import svm\n",
    "from tqdm import tqdm"
   ]
  },
  {
   "cell_type": "code",
   "execution_count": null,
   "metadata": {},
   "outputs": [
    {
     "name": "stderr",
     "output_type": "stream",
     "text": [
      "WARNING:root:The OGB package is out of date. Your version is 1.3.5, while the latest version is 1.3.6.\n"
     ]
    }
   ],
   "source": [
    "import os\n",
    "from multiprocessing import Pool\n",
    "\n",
    "import networkx as nx\n",
    "import numpy as np\n",
    "from karateclub import Graph2Vec\n",
    "from ogb.graphproppred import Evaluator, GraphPropPredDataset\n",
    "from sklearn import svm\n",
    "from tqdm import tqdm"
   ]
  },
  {
   "cell_type": "code",
   "execution_count": 2,
   "metadata": {},
   "outputs": [],
   "source": [
    "feature_names = [\n",
    "    'atomic_num',\n",
    "    'chirality',\n",
    "    'degree',\n",
    "    'formal_charge',\n",
    "    'num_h',\n",
    "    'num_rad_e',\n",
    "    'hybridization',\n",
    "    'is_aromatic',\n",
    "    'is_in_ring',\n",
    "]"
   ]
  },
  {
   "cell_type": "code",
   "execution_count": 3,
   "metadata": {},
   "outputs": [],
   "source": [
    "def graph_dict_to_nx_graph(\n",
    "    graph_dict: dict\n",
    "):\n",
    "    \"\"\"\n",
    "    Constructs a NetworkX graph object from the given graph dictionary.\n",
    "\n",
    "    Args:\n",
    "        graph_dict: A dictionary representing a graph, with the following keys:\n",
    "            - 'num_nodes': The number of nodes in the graph.\n",
    "            - 'node_feat': A list of node features, with one feature vector per node.\n",
    "            - 'edge_index': An edge index array of shape (2, E), where E is the number of edges.\n",
    "            - 'edge_feat': A list of edge features, with one feature vector per edge.\n",
    "\n",
    "    Returns:\n",
    "        A NetworkX graph object with nodes and edges corresponding to the input graph.\n",
    "    \"\"\"\n",
    "    graph = nx.Graph()\n",
    "    graph.add_nodes_from(range(graph_dict['num_nodes']))\n",
    "\n",
    "    for node_number, features in enumerate(graph_dict['node_feat']):\n",
    "        graph.add_node(node_number, feature=features)\n",
    "\n",
    "    # change shape from (2, E) to (E, 2)\n",
    "    edge_list = np.transpose(graph_dict['edge_index'])\n",
    "    for node_number, (from_node, to_node) in enumerate(edge_list):\n",
    "        features = graph_dict['edge_feat'][node_number]\n",
    "        graph.add_edge(from_node, to_node, feature=features)\n",
    "\n",
    "    return graph"
   ]
  },
  {
   "cell_type": "code",
   "execution_count": 4,
   "metadata": {},
   "outputs": [],
   "source": [
    "def edges_to_nodes(\n",
    "    graph:      nx.Graph\n",
    ") -> nx.Graph:\n",
    "    \"\"\"\n",
    "    Generates a new graph where each edge (u, v) is replaced with two edges\n",
    "    (u, uv), (uv, v) and a new node uv. The attributes of the edge are\n",
    "    copied to the new edge. This method may help if a graph embedding does\n",
    "    not not support edge attributes.\n",
    "    \"\"\"\n",
    "    new_graph = nx.Graph()\n",
    "    max_node = max(list(graph.nodes))\n",
    "\n",
    "    for node in nx.nodes(graph):\n",
    "        new_graph.add_node(node)\n",
    "\n",
    "        features = graph.nodes[node]\n",
    "        new_graph.nodes[node].update(features)\n",
    "\n",
    "    for u, v in nx.edges(graph):\n",
    "        max_node += 1\n",
    "\n",
    "        new_graph.add_node(max_node)\n",
    "        new_graph.add_edge(u, max_node)\n",
    "        new_graph.add_edge(max_node, v)\n",
    "\n",
    "        features = graph.edges[u, v]\n",
    "        new_graph.nodes[max_node].update(features)\n",
    "\n",
    "    return graph  # new_graph"
   ]
  },
  {
   "cell_type": "code",
   "execution_count": 5,
   "metadata": {},
   "outputs": [],
   "source": [
    "def get_shortest_paths(graph):\n",
    "    shortest_paths = []\n",
    "\n",
    "    shortest_path_dict = dict(nx.all_pairs_shortest_path(graph))\n",
    "\n",
    "    for source in graph.nodes:\n",
    "        for target in graph.nodes:\n",
    "            if nx.has_path(graph, source, target):\n",
    "                shortest_path = shortest_path_dict[source][target]\n",
    "                if len(shortest_path) >= 2:\n",
    "                    shortest_paths.append(shortest_path)\n",
    "\n",
    "    return shortest_paths"
   ]
  },
  {
   "cell_type": "code",
   "execution_count": 6,
   "metadata": {},
   "outputs": [],
   "source": [
    "def substitute_nodes_with_features(shortest_path, graph):\n",
    "    feat_to_include = [0]\n",
    "    path_str = []\n",
    "    for node_id in shortest_path:\n",
    "        for j, feat in enumerate(feat_to_include):\n",
    "            path_str.append(f'{j}_{graph.nodes[node_id][\"feature\"][feat]}')\n",
    "    path_str = ' '.join(path_str)\n",
    "    return path_str"
   ]
  },
  {
   "cell_type": "code",
   "execution_count": 7,
   "metadata": {},
   "outputs": [],
   "source": [
    "def write_paths_to_file(dataset):\n",
    "    start_line = 1\n",
    "    line = 1\n",
    "    with open('rows.txt', 'w') as f_rows, open('shortest_paths.txt', 'w') as f_paths:\n",
    "        for i, (graph_dict, label) in enumerate(tqdm(dataset)):\n",
    "            graph = graph_dict_to_nx_graph(graph_dict)\n",
    "            shortest_paths = get_shortest_paths(graph)\n",
    "            for shortest_path in shortest_paths:\n",
    "                path_str = substitute_nodes_with_features(shortest_path, graph)\n",
    "                f_paths.write(path_str + \" STOP \")\n",
    "                line += 1\n",
    "            f_paths.write(\"\\n\")\n",
    "            f_rows.write(str(start_line) + \" \" + str(line-1) + '\\n')\n",
    "            start_line = line"
   ]
  },
  {
   "cell_type": "code",
   "execution_count": 8,
   "metadata": {},
   "outputs": [
    {
     "name": "stderr",
     "output_type": "stream",
     "text": [
      "100%|██████████| 642/642 [00:00<00:00, 722.88it/s]\n"
     ]
    }
   ],
   "source": [
    "dataset_name = 'ogbg-molfreesolv'\n",
    "dataset = GraphPropPredDataset(name=dataset_name)\n",
    "split_idx = dataset.get_idx_split()\n",
    "\n",
    "# rows are inclusive\n",
    "write_paths_to_file(dataset)"
   ]
  },
  {
   "cell_type": "code",
   "execution_count": 9,
   "metadata": {},
   "outputs": [
    {
     "data": {
      "text/plain": [
       "((513, 100), (513,))"
      ]
     },
     "execution_count": 9,
     "metadata": {},
     "output_type": "execute_result"
    }
   ],
   "source": [
    "from gensim.models.doc2vec import Doc2Vec\n",
    "\n",
    "model = Doc2Vec(corpus_file='shortest_paths.txt')\n",
    "\n",
    "train_X = np.array([model.dv[x] for x in split_idx['train']])\n",
    "train_y = np.array([dataset[x][1] for x in split_idx['train']]).ravel()\n",
    "\n",
    "test_X = np.array([model.dv[x] for x in split_idx['test']])\n",
    "test_y = np.array([dataset[x][1] for x in split_idx['test']]).ravel()\n",
    "\n",
    "valid_X = np.array([model.dv[x] for x in split_idx['valid']])\n",
    "valid_y = np.array([dataset[x][1] for x in split_idx['valid']]).ravel()\n",
    "\n",
    "train_X.shape, train_y.shape"
   ]
  },
  {
   "cell_type": "code",
   "execution_count": 22,
   "metadata": {},
   "outputs": [
    {
     "data": {
      "text/plain": [
       "RandomForestRegressor(n_estimators=1000)"
      ]
     },
     "execution_count": 22,
     "metadata": {},
     "output_type": "execute_result"
    }
   ],
   "source": [
    "from sklearn.ensemble import RandomForestRegressor\n",
    "\n",
    "reg = RandomForestRegressor(n_estimators=1000)\n",
    "reg.fit(train_X, train_y)"
   ]
  },
  {
   "cell_type": "code",
   "execution_count": 24,
   "metadata": {},
   "outputs": [
    {
     "data": {
      "image/png": "[encoded data removed]",
      "text/plain": [
       "<Figure size 640x480 with 1 Axes>"
      ]
     },
     "metadata": {},
     "output_type": "display_data"
    }
   ],
   "source": [
    "import seaborn as sns\n",
    "\n",
    "predicted_valid_y = reg.predict(valid_X)\n",
    "scatter_plot = sns.scatterplot(x=predicted_valid_y, y=valid_y)\n",
    "scatter_plot.set(xlabel =\"Predicted Values\", ylabel=\"Actual Values\", title=dataset_name)\n",
    "scatter_plot.figure.savefig('dataset_name.png')"
   ]
  }
 ],
 "metadata": {
  "kernelspec": {
   "display_name": "Python 3",
   "language": "python",
   "name": "python3"
  },
  "language_info": {
   "codemirror_mode": {
    "name": "ipython",
    "version": 3
   },
   "file_extension": ".py",
   "mimetype": "text/x-python",
   "name": "python",
   "nbconvert_exporter": "python",
   "pygments_lexer": "ipython3",
   "version": "3.8.10"
  },
  "orig_nbformat": 4
 },
 "nbformat": 4,
 "nbformat_minor": 2
}
